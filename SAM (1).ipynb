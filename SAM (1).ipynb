{
 "cells": [
  {
   "cell_type": "code",
   "execution_count": 35,
   "id": "688a80ed-6527-4e92-97fa-1e22f4fb9ee6",
   "metadata": {},
   "outputs": [],
   "source": [
    "import speech_recognition as sr\n",
    "import pyttsx3\n",
    "import pywhatkit\n",
    "import wave\n",
    "import pyaudio"
   ]
  },
  {
   "cell_type": "code",
   "execution_count": 45,
   "id": "808103e8-c3af-41b8-bd6f-d6fc785ba1b0",
   "metadata": {},
   "outputs": [
    {
     "name": "stdout",
     "output_type": "stream",
     "text": [
      "listening..\n",
      "Opening Recorder\n"
     ]
    },
    {
     "name": "stdin",
     "output_type": "stream",
     "text": [
      "Enter no. of seconds 2\n"
     ]
    },
    {
     "name": "stdout",
     "output_type": "stream",
     "text": [
      "Recording\n",
      "Recording saved\n"
     ]
    }
   ],
   "source": [
    "recognizer = sr.Recognizer()\n",
    "engine=pyttsx3.init()\n",
    "engine.say('Hi! This is Samantha, your voice assisstant')\n",
    "engine.say('What can i do for you?')\n",
    "engine.runAndWait()\n",
    "def talk(text):\n",
    "    engine.say(text)\n",
    "    engine.runAndWait()\n",
    "    return text\n",
    "def take_command():\n",
    "    try:\n",
    "        with sr.Microphone() as source:\n",
    "            print(\"listening..\")\n",
    "            voice=recognizer.listen(source)\n",
    "            command=recognizer.recognize_google(voice)\n",
    "            command=command.lower()\n",
    "            if 'samantha' in command:\n",
    "                if 'play' in command:\n",
    "                    command=command.replace('sam','')\n",
    "                elif 'record' in command:\n",
    "                    print(\"Opening Recorder\")\n",
    "                    talk(\"Opening Recorder\")\n",
    "                    rec()\n",
    "            return command\n",
    "    except sr.UnknownValueError:\n",
    "        print(talk(\"Could not understand audio. Please try again.\"))\n",
    "        return None\n",
    "    except sr.RequestError:\n",
    "        print(talk(\"Unable to access the Google Speech Recognition API.\"))\n",
    "        return None\n",
    "def rec():\n",
    "    seconds=int(input(\"Enter no. of seconds\"))\n",
    "    FRAMES_PER_BUFFER=3200\n",
    "    FORMAT=pyaudio.paInt16\n",
    "    Channels=1\n",
    "    Rate=16000\n",
    "    p=pyaudio.PyAudio()\n",
    "    stream=p.open(\n",
    "        format=FORMAT,\n",
    "        channels=Channels,\n",
    "        rate=Rate,\n",
    "        input=True,\n",
    "        frames_per_buffer=FRAMES_PER_BUFFER\n",
    "    )\n",
    "    print(talk(\"Recording\"))\n",
    "    frames=[]\n",
    "    for i in range(0,int(Rate/FRAMES_PER_BUFFER*seconds)):\n",
    "        data=stream.read(FRAMES_PER_BUFFER)\n",
    "        frames.append(data)\n",
    "    stream.stop_stream()\n",
    "    stream.close()\n",
    "    p.terminate()\n",
    "    \n",
    "    obj=wave.open(\"op.wav\",\"wb\")\n",
    "    obj.setnchannels(Channels)\n",
    "    obj.setsampwidth(p.get_sample_size(FORMAT))\n",
    "    obj.setframerate(Rate)\n",
    "    obj.writeframes(b\"\".join(frames))\n",
    "    obj.close()\n",
    "    print(talk(\"Recording saved\"))\n",
    "def run_sam():\n",
    "    command=take_command()\n",
    "    if 'play' in command:\n",
    "        song=command.replace('play','')\n",
    "        talk('playing'+song)\n",
    "        pywhatkit.playonyt(song)\n",
    "run_sam()"
   ]
  },
  {
   "cell_type": "code",
   "execution_count": null,
   "id": "20953915-f6e0-411d-bb24-154497809b91",
   "metadata": {},
   "outputs": [],
   "source": []
  }
 ],
 "metadata": {
  "kernelspec": {
   "display_name": "Python 3 (ipykernel)",
   "language": "python",
   "name": "python3"
  },
  "language_info": {
   "codemirror_mode": {
    "name": "ipython",
    "version": 3
   },
   "file_extension": ".py",
   "mimetype": "text/x-python",
   "name": "python",
   "nbconvert_exporter": "python",
   "pygments_lexer": "ipython3",
   "version": "3.11.4"
  }
 },
 "nbformat": 4,
 "nbformat_minor": 5
}
